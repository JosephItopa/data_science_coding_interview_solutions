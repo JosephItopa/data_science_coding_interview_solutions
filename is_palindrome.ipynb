{
 "cells": [
  {
   "cell_type": "markdown",
   "id": "6d24c888-ec67-42d8-9cc7-d150a32599ab",
   "metadata": {},
   "source": [
    "## Palindrome\n",
    "\n",
    "### A palindrome is a word which reads the same backward or forward. 'Boy' is a palindrome."
   ]
  },
  {
   "cell_type": "code",
   "execution_count": 1,
   "id": "cbb5c223-fdc3-440e-8cdb-4e3a3b451dc7",
   "metadata": {},
   "outputs": [],
   "source": [
    "def is_palindrome(word:str)->bool:\n",
    "    \"\"\"\n",
    "    Returns a boolean: True or False; True if the reverse word is the same as the initial word, and False if its not.\n",
    "\n",
    "    Args:\n",
    "        word (string): A word.\n",
    "\n",
    "    Returns:\n",
    "        True if palindrome, else it returns False.\n",
    "    \"\"\"\n",
    "    if type(word) == str:\n",
    "        word = word.lower()\n",
    "        # check allowed lower case and integer\n",
    "        allowed_lower_case = [*str.ascii_lowercase, *str.digits]\n",
    "        # remove non alphanumeric character\n",
    "        word_fixed = ''\n",
    "        for letter in word:\n",
    "            if letter in allowed_lower_case:\n",
    "                word_fixed += letter\n",
    "        \n",
    "        word_reversed = ''\n",
    "        # for every letter\n",
    "        for letter in word_fixed:\n",
    "            word_reversed += letter\n",
    "            \n",
    "    return True if word_fixed == word_reversed else False"
   ]
  },
  {
   "cell_type": "code",
   "execution_count": 2,
   "id": "fc2a761d-9bc0-442e-8bcb-02f2eb26454e",
   "metadata": {},
   "outputs": [
    {
     "ename": "AttributeError",
     "evalue": "type object 'str' has no attribute 'ascii_lowercase'",
     "output_type": "error",
     "traceback": [
      "\u001b[0;31m---------------------------------------------------------------------------\u001b[0m",
      "\u001b[0;31mAttributeError\u001b[0m                            Traceback (most recent call last)",
      "Input \u001b[0;32mIn [2]\u001b[0m, in \u001b[0;36m<cell line: 1>\u001b[0;34m()\u001b[0m\n\u001b[0;32m----> 1\u001b[0m \u001b[43mis_palindrome\u001b[49m\u001b[43m(\u001b[49m\u001b[38;5;124;43m\"\u001b[39;49m\u001b[38;5;124;43mBob\u001b[39;49m\u001b[38;5;124;43m\"\u001b[39;49m\u001b[43m)\u001b[49m\n",
      "Input \u001b[0;32mIn [1]\u001b[0m, in \u001b[0;36mis_palindrome\u001b[0;34m(word)\u001b[0m\n\u001b[1;32m     12\u001b[0m word \u001b[38;5;241m=\u001b[39m word\u001b[38;5;241m.\u001b[39mlower()\n\u001b[1;32m     13\u001b[0m \u001b[38;5;66;03m# check allowed lower case and integer\u001b[39;00m\n\u001b[0;32m---> 14\u001b[0m allowed_lower_case \u001b[38;5;241m=\u001b[39m [\u001b[38;5;241m*\u001b[39m\u001b[38;5;28;43mstr\u001b[39;49m\u001b[38;5;241;43m.\u001b[39;49m\u001b[43mascii_lowercase\u001b[49m, \u001b[38;5;241m*\u001b[39m\u001b[38;5;28mstr\u001b[39m\u001b[38;5;241m.\u001b[39mdigits]\n\u001b[1;32m     15\u001b[0m \u001b[38;5;66;03m# remove non alphanumeric character\u001b[39;00m\n\u001b[1;32m     16\u001b[0m word_fixed \u001b[38;5;241m=\u001b[39m \u001b[38;5;124m'\u001b[39m\u001b[38;5;124m'\u001b[39m\n",
      "\u001b[0;31mAttributeError\u001b[0m: type object 'str' has no attribute 'ascii_lowercase'"
     ]
    }
   ],
   "source": [
    "is_palindrome(\"Bob\")"
   ]
  }
 ],
 "metadata": {
  "kernelspec": {
   "display_name": "Python 3 (ipykernel)",
   "language": "python",
   "name": "python3"
  },
  "language_info": {
   "codemirror_mode": {
    "name": "ipython",
    "version": 3
   },
   "file_extension": ".py",
   "mimetype": "text/x-python",
   "name": "python",
   "nbconvert_exporter": "python",
   "pygments_lexer": "ipython3",
   "version": "3.8.10"
  }
 },
 "nbformat": 4,
 "nbformat_minor": 5
}

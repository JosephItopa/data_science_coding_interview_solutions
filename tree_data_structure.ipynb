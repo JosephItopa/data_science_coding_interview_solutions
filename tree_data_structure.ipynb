{
 "cells": [
  {
   "cell_type": "markdown",
   "id": "7963fecc-aa96-4470-ad0f-6173620c4c36",
   "metadata": {},
   "source": [
    "### Given a binary tree, find its height."
   ]
  },
  {
   "cell_type": "code",
   "execution_count": null,
   "id": "070168db-4c7e-4855-b98b-23b5a85d8dad",
   "metadata": {},
   "outputs": [],
   "source": []
  },
  {
   "cell_type": "markdown",
   "id": "d5cc49c9-c368-417c-a282-d7cff7072daf",
   "metadata": {},
   "source": [
    "### Binary tree in-order traversal"
   ]
  },
  {
   "cell_type": "code",
   "execution_count": null,
   "id": "5b9a13a1-253b-4232-a7c4-fe8f6723a09c",
   "metadata": {},
   "outputs": [],
   "source": []
  },
  {
   "cell_type": "markdown",
   "id": "cee9e2fa-b721-49bf-8c64-e1f97c921aef",
   "metadata": {},
   "source": [
    "### Maximum depth of a binary tree"
   ]
  },
  {
   "cell_type": "code",
   "execution_count": null,
   "id": "9f0a00b7-a347-464b-ae83-83846668ae2c",
   "metadata": {},
   "outputs": [],
   "source": []
  },
  {
   "cell_type": "markdown",
   "id": "d2433bef-f7eb-4baa-a5a6-fa211efca032",
   "metadata": {},
   "source": [
    "### Sum root to leaf numbers"
   ]
  },
  {
   "cell_type": "code",
   "execution_count": null,
   "id": "739ba5ea-d1a6-41cf-9588-fb16b4719710",
   "metadata": {},
   "outputs": [],
   "source": []
  },
  {
   "cell_type": "markdown",
   "id": "99536d93-dcdc-4155-a5aa-84ffd548f382",
   "metadata": {},
   "source": [
    "### Reference\n",
    "\n",
    "https://www.educative.io/blog/essential-tree-traversal-algorithms\n",
    "\n",
    "https://www.freecodecamp.org/news/binary-search-tree-traversal-inorder-preorder-post-order-for-bst/"
   ]
  }
 ],
 "metadata": {
  "kernelspec": {
   "display_name": "Python 3 (ipykernel)",
   "language": "python",
   "name": "python3"
  },
  "language_info": {
   "codemirror_mode": {
    "name": "ipython",
    "version": 3
   },
   "file_extension": ".py",
   "mimetype": "text/x-python",
   "name": "python",
   "nbconvert_exporter": "python",
   "pygments_lexer": "ipython3",
   "version": "3.8.10"
  }
 },
 "nbformat": 4,
 "nbformat_minor": 5
}

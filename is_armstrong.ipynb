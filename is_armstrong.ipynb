{
 "cells": [
  {
   "cell_type": "markdown",
   "id": "d624665b-a77e-4b44-92e3-b6a6ebd33e7f",
   "metadata": {},
   "source": [
    "## is_armstrong\n",
    "### Given an integer A, check if it is an Armstrong number of not.\n",
    "### An Armstrong number is a number that is the sum of its own digits each raised to the power of the number of digits."
   ]
  },
  {
   "cell_type": "code",
   "execution_count": 7,
   "id": "22702e2e-5f98-4766-a311-0607278bd779",
   "metadata": {},
   "outputs": [],
   "source": [
    "def is_armstrong(num:int)->bool:\n",
    "    \"\"\"\n",
    "    Returns a boolean: True or False; True if number belongs to armstrong series False if its not.\n",
    "\n",
    "    Args:\n",
    "        num (integer): number.\n",
    "\n",
    "    Returns:\n",
    "        True if arsmtrong, else it returns False.\n",
    "    \"\"\"\n",
    "    order = len(str(num))\n",
    "    temp = num\n",
    "    summer = 0\n",
    "    while temp > 0:\n",
    "        digit = temp % 10\n",
    "        summer += digit**order\n",
    "        temp //= 10\n",
    "        \n",
    "    return True if num == summer else False"
   ]
  },
  {
   "cell_type": "code",
   "execution_count": 2,
   "id": "b15a2511-af6c-4289-976f-37f4af818573",
   "metadata": {},
   "outputs": [
    {
     "data": {
      "text/plain": [
       "True"
      ]
     },
     "execution_count": 2,
     "metadata": {},
     "output_type": "execute_result"
    }
   ],
   "source": [
    "is_armstrong(153)"
   ]
  },
  {
   "cell_type": "code",
   "execution_count": 3,
   "id": "f1514a17-659b-46e5-8e11-e0a5d75848da",
   "metadata": {},
   "outputs": [
    {
     "data": {
      "text/plain": [
       "False"
      ]
     },
     "execution_count": 3,
     "metadata": {},
     "output_type": "execute_result"
    }
   ],
   "source": [
    "is_armstrong(50)"
   ]
  },
  {
   "cell_type": "code",
   "execution_count": 4,
   "id": "749670bb-175e-4955-a215-2b28853e693a",
   "metadata": {},
   "outputs": [
    {
     "data": {
      "text/plain": [
       "True"
      ]
     },
     "execution_count": 4,
     "metadata": {},
     "output_type": "execute_result"
    }
   ],
   "source": [
    "is_armstrong(1)"
   ]
  }
 ],
 "metadata": {
  "kernelspec": {
   "display_name": "Python 3 (ipykernel)",
   "language": "python",
   "name": "python3"
  },
  "language_info": {
   "codemirror_mode": {
    "name": "ipython",
    "version": 3
   },
   "file_extension": ".py",
   "mimetype": "text/x-python",
   "name": "python",
   "nbconvert_exporter": "python",
   "pygments_lexer": "ipython3",
   "version": "3.8.10"
  }
 },
 "nbformat": 4,
 "nbformat_minor": 5
}

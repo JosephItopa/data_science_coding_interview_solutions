{
 "cells": [
  {
   "cell_type": "code",
   "execution_count": null,
   "id": "f34674d0-5721-4174-a5f0-abbcc6f45a66",
   "metadata": {},
   "outputs": [],
   "source": [
    "Consider the following code snippet:\n",
    "\n",
    "1. list = [ [ ] ] * 5 # \n",
    "2. list # output? Output: [[], [], [], [], []]\n",
    "3. list[0].append(10) # \n",
    "4. list # output? Output: [10, [], [], [], []]\n",
    "5. list[1].append(20)\n",
    "6. list # output? Output: [10, 20, [], [], []]\n",
    "7. list.append(30)\n",
    "8. list # output? Output: [30, 30, 30, 30, 30]\n",
    "What will be the ouput of lines 2, 4, 6, and 8? Explain your answer. \n",
    "2: [[], [], [], [], []]\n",
    "4: [10, [], [], [], []]\n",
    "6: [10, 20, [], [], []]\n",
    "8: [30, 30, 30, 30, 30]"
   ]
  },
  {
   "cell_type": "code",
   "execution_count": 1,
   "id": "a5517e20-bd0e-40bd-bf0b-a8dda5d273c8",
   "metadata": {},
   "outputs": [
    {
     "data": {
      "text/plain": [
       "[[], [], [], [], []]"
      ]
     },
     "execution_count": 1,
     "metadata": {},
     "output_type": "execute_result"
    }
   ],
   "source": [
    "list = [ [ ] ] * 5\n",
    "list"
   ]
  },
  {
   "cell_type": "code",
   "execution_count": 3,
   "id": "9f5473ca-63ad-4212-b3ba-ed092c9b6c12",
   "metadata": {},
   "outputs": [
    {
     "data": {
      "text/plain": [
       "[[10, 10], [10, 10], [10, 10], [10, 10], [10, 10]]"
      ]
     },
     "execution_count": 3,
     "metadata": {},
     "output_type": "execute_result"
    }
   ],
   "source": [
    "list[0].append(10)\n",
    "list"
   ]
  },
  {
   "cell_type": "code",
   "execution_count": 5,
   "id": "c539958d-0125-4835-b463-22de089bf313",
   "metadata": {},
   "outputs": [
    {
     "data": {
      "text/plain": [
       "[[10, 10, 20, 20],\n",
       " [10, 10, 20, 20],\n",
       " [10, 10, 20, 20],\n",
       " [10, 10, 20, 20],\n",
       " [10, 10, 20, 20]]"
      ]
     },
     "execution_count": 5,
     "metadata": {},
     "output_type": "execute_result"
    }
   ],
   "source": [
    "list[1].append(20)\n",
    "list"
   ]
  },
  {
   "cell_type": "code",
   "execution_count": 6,
   "id": "8ad05e2f-47c2-40c7-8d5e-e89250762a19",
   "metadata": {},
   "outputs": [
    {
     "data": {
      "text/plain": [
       "[[10, 10, 20, 20],\n",
       " [10, 10, 20, 20],\n",
       " [10, 10, 20, 20],\n",
       " [10, 10, 20, 20],\n",
       " [10, 10, 20, 20],\n",
       " 30]"
      ]
     },
     "execution_count": 6,
     "metadata": {},
     "output_type": "execute_result"
    }
   ],
   "source": [
    "list.append(30)\n",
    "list"
   ]
  },
  {
   "cell_type": "markdown",
   "id": "7fed243c-8c27-4bde-852e-dc4ae97e0d5a",
   "metadata": {},
   "source": [
    "### Consecutive zeros\n",
    "### The goal of this challenge is to analyze a binary string consisting of only zeros and ones. \n",
    "### Your code should find the biggest number of consecutive zeros in the string. For example, given the string:\n",
    "\n",
    "### \"1001101000110\"\n",
    "### The biggest number of consecutive zeros is 3.\n",
    "\n",
    "### Define a function named consecutive_zeros that takes a single parameter, which is the string of zeros and ones. \n",
    "### Your function should return the number described above. "
   ]
  },
  {
   "cell_type": "code",
   "execution_count": 14,
   "id": "f9f1c589-713d-49b0-9b58-84ef4ed087a7",
   "metadata": {},
   "outputs": [],
   "source": [
    "def consecutive_zeros(binary:str)->int:\n",
    "    count_zeros, count_ones, prev_value = {}, {}, {}\n",
    "    for bin_value in binary:\n",
    "        if bin_value == '0':\n",
    "            prev_value['last_value'] = bin_value\n",
    "            if bin_value == prev_value.last_value:\n",
    "                count_zeros[bin_value] += 1\n",
    "            else:\n",
    "                count_zeros[bin_value] = 1\n",
    "        else:\n",
    "            pass\n",
    "    return count_zeros"
   ]
  },
  {
   "cell_type": "code",
   "execution_count": 15,
   "id": "66ef10f3-a0ea-46c8-8042-80b1a5f2524e",
   "metadata": {},
   "outputs": [
    {
     "ename": "AttributeError",
     "evalue": "'dict' object has no attribute 'last_value'",
     "output_type": "error",
     "traceback": [
      "\u001b[0;31m---------------------------------------------------------------------------\u001b[0m",
      "\u001b[0;31mAttributeError\u001b[0m                            Traceback (most recent call last)",
      "Input \u001b[0;32mIn [15]\u001b[0m, in \u001b[0;36m<cell line: 1>\u001b[0;34m()\u001b[0m\n\u001b[0;32m----> 1\u001b[0m \u001b[43mconsecutive_zeros\u001b[49m\u001b[43m(\u001b[49m\u001b[38;5;124;43m\"\u001b[39;49m\u001b[38;5;124;43m1001101000110\u001b[39;49m\u001b[38;5;124;43m\"\u001b[39;49m\u001b[43m)\u001b[49m\n",
      "Input \u001b[0;32mIn [14]\u001b[0m, in \u001b[0;36mconsecutive_zeros\u001b[0;34m(binary)\u001b[0m\n\u001b[1;32m      4\u001b[0m \u001b[38;5;28;01mif\u001b[39;00m bin_value \u001b[38;5;241m==\u001b[39m \u001b[38;5;124m'\u001b[39m\u001b[38;5;124m0\u001b[39m\u001b[38;5;124m'\u001b[39m:\n\u001b[1;32m      5\u001b[0m     prev_value[\u001b[38;5;124m'\u001b[39m\u001b[38;5;124mlast_value\u001b[39m\u001b[38;5;124m'\u001b[39m] \u001b[38;5;241m=\u001b[39m bin_value\n\u001b[0;32m----> 6\u001b[0m     \u001b[38;5;28;01mif\u001b[39;00m bin_value \u001b[38;5;241m==\u001b[39m \u001b[43mprev_value\u001b[49m\u001b[38;5;241;43m.\u001b[39;49m\u001b[43mlast_value\u001b[49m:\n\u001b[1;32m      7\u001b[0m         count_zeros[bin_value] \u001b[38;5;241m+\u001b[39m\u001b[38;5;241m=\u001b[39m \u001b[38;5;241m1\u001b[39m\n\u001b[1;32m      8\u001b[0m     \u001b[38;5;28;01melse\u001b[39;00m:\n",
      "\u001b[0;31mAttributeError\u001b[0m: 'dict' object has no attribute 'last_value'"
     ]
    }
   ],
   "source": [
    "consecutive_zeros(\"1001101000110\")"
   ]
  }
 ],
 "metadata": {
  "kernelspec": {
   "display_name": "Python 3 (ipykernel)",
   "language": "python",
   "name": "python3"
  },
  "language_info": {
   "codemirror_mode": {
    "name": "ipython",
    "version": 3
   },
   "file_extension": ".py",
   "mimetype": "text/x-python",
   "name": "python",
   "nbconvert_exporter": "python",
   "pygments_lexer": "ipython3",
   "version": "3.8.10"
  }
 },
 "nbformat": 4,
 "nbformat_minor": 5
}

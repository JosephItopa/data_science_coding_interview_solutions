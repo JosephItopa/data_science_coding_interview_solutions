{
 "cells": [
  {
   "cell_type": "markdown",
   "id": "db14d567-977b-4894-b90b-8ad6f17353e1",
   "metadata": {},
   "source": [
    "## Factorial\n",
    "\n",
    "### Evaluate factorial of a number, e.g. 5! = 5 x 4 x 3 x 2 x 1 = 120"
   ]
  },
  {
   "cell_type": "code",
   "execution_count": 3,
   "id": "00c823bd-380c-41c6-934a-4fd80c173224",
   "metadata": {},
   "outputs": [],
   "source": [
    "def factorial(num: int) -> int:\n",
    "    \"\"\"\n",
    "    Returns an integer after evaluating the factorial of the given number.\n",
    "    Args: \n",
    "        num(int): Takes an integer number.\n",
    "    Returns:\n",
    "            An integer number.\n",
    "    \"\"\"\n",
    "    if num < 0: \n",
    "        return -1\n",
    "    \n",
    "    elif num == 0: \n",
    "        return 1\n",
    "    elif num == 1: \n",
    "        return 1\n",
    "\n",
    "    elif num > 1:\n",
    "        return num * factorial(num-1)\n",
    "    else:\n",
    "        return \"NULL\""
   ]
  },
  {
   "cell_type": "code",
   "execution_count": 9,
   "id": "0c1de3d0-b2a7-4b77-bf85-b6b38bf4adf7",
   "metadata": {},
   "outputs": [
    {
     "data": {
      "text/plain": [
       "120"
      ]
     },
     "execution_count": 9,
     "metadata": {},
     "output_type": "execute_result"
    }
   ],
   "source": [
    "factorial(5)"
   ]
  },
  {
   "cell_type": "code",
   "execution_count": 11,
   "id": "9504c728-961a-44fa-b5eb-d062529db057",
   "metadata": {},
   "outputs": [
    {
     "data": {
      "text/plain": [
       "-1"
      ]
     },
     "execution_count": 11,
     "metadata": {},
     "output_type": "execute_result"
    }
   ],
   "source": [
    "factorial(-5)"
   ]
  },
  {
   "cell_type": "code",
   "execution_count": 12,
   "id": "202526bd-ae40-4d88-8ebd-393883eaffb7",
   "metadata": {},
   "outputs": [
    {
     "data": {
      "text/plain": [
       "1"
      ]
     },
     "execution_count": 12,
     "metadata": {},
     "output_type": "execute_result"
    }
   ],
   "source": [
    "factorial(0)"
   ]
  }
 ],
 "metadata": {
  "kernelspec": {
   "display_name": "Python 3 (ipykernel)",
   "language": "python",
   "name": "python3"
  },
  "language_info": {
   "codemirror_mode": {
    "name": "ipython",
    "version": 3
   },
   "file_extension": ".py",
   "mimetype": "text/x-python",
   "name": "python",
   "nbconvert_exporter": "python",
   "pygments_lexer": "ipython3",
   "version": "3.8.10"
  }
 },
 "nbformat": 4,
 "nbformat_minor": 5
}

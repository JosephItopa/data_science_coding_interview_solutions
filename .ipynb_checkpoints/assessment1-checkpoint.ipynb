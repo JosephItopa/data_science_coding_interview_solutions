{
 "cells": [
  {
   "cell_type": "markdown",
   "id": "0fba2cad-7ea5-44c7-afdb-35df15b0ae9d",
   "metadata": {},
   "source": [
    "### Anagram"
   ]
  },
  {
   "cell_type": "code",
   "execution_count": 7,
   "id": "b359113d-acb1-4e51-9b02-cc9de1a4b243",
   "metadata": {},
   "outputs": [],
   "source": [
    "# Anagrams\n",
    "# Two strings are anagrams if you can make one from the other by rearranging the letters.\n",
    "\n",
    "# Write a function named is_anagram that takes two strings as its parameters. Your function should return True if the strings are anagrams, and False otherwise.\n",
    "\n",
    "# For example, the call is_anagram(\"typhoon\", \"opython\") should return True while the call is_anagram(\"Alice\", \"Bob\") should return False. "
   ]
  },
  {
   "cell_type": "code",
   "execution_count": 17,
   "id": "9caba3c5-d189-4ed2-b849-0752a1e37b06",
   "metadata": {},
   "outputs": [],
   "source": [
    "def is_anagram(param_a: str, param_b: str) -> bool:\n",
    "    if type(param_a) == str and type(param_b) == str:\n",
    "        param_a = param_a.lower()\n",
    "        param_b = param_b.lower()\n",
    "        # length check\n",
    "        if len(param_a) != len(param_b):\n",
    "            return False\n",
    "        \n",
    "        # dictionary to store results\n",
    "        count_a, count_b = {}, {}\n",
    "        # letter count for string a\n",
    "        for letter in param_a:\n",
    "            if letter not in count_a:\n",
    "                count_a[letter] = 1\n",
    "            else:\n",
    "                count_a[letter] += 1\n",
    "        \n",
    "        # letter count for string b\n",
    "        for letter in param_b:\n",
    "            if letter not in count_b:\n",
    "                count_b[letter] = 1\n",
    "            else:\n",
    "                count_b[letter] += 1\n",
    "        # return result\n",
    "        return True if count_a == count_b else False\n",
    "    else:\n",
    "        print(\"one of the parameter is not string. Make sure both parameter is string\")"
   ]
  },
  {
   "cell_type": "code",
   "execution_count": 24,
   "id": "1f5fe518-53f1-4ba3-8f3f-279455540667",
   "metadata": {},
   "outputs": [
    {
     "name": "stdout",
     "output_type": "stream",
     "text": [
      "one of the parameter is not string. Make sure both parameter is string\n"
     ]
    }
   ],
   "source": [
    "is_anagram(\"sad\", 4)"
   ]
  },
  {
   "cell_type": "code",
   "execution_count": 6,
   "id": "cbf91a7d-a110-47a6-a5bb-7fe13a41ad07",
   "metadata": {},
   "outputs": [
    {
     "data": {
      "text/plain": [
       "False"
      ]
     },
     "execution_count": 6,
     "metadata": {},
     "output_type": "execute_result"
    }
   ],
   "source": [
    "is_anagram(\"Alice\", \"Bob\")"
   ]
  },
  {
   "cell_type": "markdown",
   "id": "e3bead5f-2e5a-44a7-b75e-2500619462d5",
   "metadata": {},
   "source": [
    "### palindrome"
   ]
  },
  {
   "cell_type": "code",
   "execution_count": 29,
   "id": "2ba8c902-1a44-402d-b599-397011aa2649",
   "metadata": {},
   "outputs": [],
   "source": [
    "def is_palindrome(word: str) -> bool:\n",
    "    if type(word) == str:\n",
    "        word = word.lower()\n",
    "        # check allowed lower case and integer\n",
    "        allowed_lower_case = [*str.ascii_lowercase, *str.digits]\n",
    "        # remove non alphanumeric character\n",
    "        word_fixed = ''\n",
    "        for letter in word:\n",
    "            if letter in allowed_lower_case:\n",
    "                word_fixed += letter\n",
    "        \n",
    "        word_reversed = ''\n",
    "        # for every letter\n",
    "        for letter in word_fixed:\n",
    "            word_reversed += letter\n",
    "            \n",
    "        if word_fixed == word_reversed:\n",
    "            return True\n",
    "        return False\n",
    "    else:\n",
    "        print(\"please ensure the input is a string\")"
   ]
  },
  {
   "cell_type": "code",
   "execution_count": 30,
   "id": "ee9c56cb-4d68-4910-84e7-d0a745fea256",
   "metadata": {},
   "outputs": [
    {
     "ename": "AttributeError",
     "evalue": "type object 'str' has no attribute 'ascii_lowercase'",
     "output_type": "error",
     "traceback": [
      "\u001b[0;31m---------------------------------------------------------------------------\u001b[0m",
      "\u001b[0;31mAttributeError\u001b[0m                            Traceback (most recent call last)",
      "Input \u001b[0;32mIn [30]\u001b[0m, in \u001b[0;36m<cell line: 1>\u001b[0;34m()\u001b[0m\n\u001b[0;32m----> 1\u001b[0m \u001b[43mis_palindrome\u001b[49m\u001b[43m(\u001b[49m\u001b[38;5;124;43m\"\u001b[39;49m\u001b[38;5;124;43mBob\u001b[39;49m\u001b[38;5;124;43m\"\u001b[39;49m\u001b[43m)\u001b[49m\n",
      "Input \u001b[0;32mIn [29]\u001b[0m, in \u001b[0;36mis_palindrome\u001b[0;34m(word)\u001b[0m\n\u001b[1;32m      3\u001b[0m word \u001b[38;5;241m=\u001b[39m word\u001b[38;5;241m.\u001b[39mlower()\n\u001b[1;32m      4\u001b[0m \u001b[38;5;66;03m# check allowed lower case and integer\u001b[39;00m\n\u001b[0;32m----> 5\u001b[0m allowed_lower_case \u001b[38;5;241m=\u001b[39m [\u001b[38;5;241m*\u001b[39m\u001b[38;5;28;43mstr\u001b[39;49m\u001b[38;5;241;43m.\u001b[39;49m\u001b[43mascii_lowercase\u001b[49m, \u001b[38;5;241m*\u001b[39m\u001b[38;5;28mstr\u001b[39m\u001b[38;5;241m.\u001b[39mdigits]\n\u001b[1;32m      6\u001b[0m \u001b[38;5;66;03m# remove non alphanumeric character\u001b[39;00m\n\u001b[1;32m      7\u001b[0m word_fixed \u001b[38;5;241m=\u001b[39m \u001b[38;5;124m'\u001b[39m\u001b[38;5;124m'\u001b[39m\n",
      "\u001b[0;31mAttributeError\u001b[0m: type object 'str' has no attribute 'ascii_lowercase'"
     ]
    }
   ],
   "source": [
    "is_palindrome(\"Bob\")"
   ]
  },
  {
   "cell_type": "markdown",
   "id": "a0d8b31d-a46e-421d-9af2-33669a640605",
   "metadata": {},
   "source": [
    "### factorial"
   ]
  },
  {
   "cell_type": "code",
   "execution_count": 38,
   "id": "93832a88-b425-46d2-879a-a1ffba6e67c5",
   "metadata": {},
   "outputs": [],
   "source": [
    "def factorial(x: int) -> int:\n",
    "    if type(x) == int:\n",
    "        # consider edge cases\n",
    "        if x < 0: return -1\n",
    "        if x == 0: return 1\n",
    "        # exit condition\n",
    "        if x == 1:\n",
    "            return x\n",
    "        else:\n",
    "            return x * factorial(x - 1)\n",
    "    else:\n",
    "        print(\"please enter a number\")"
   ]
  },
  {
   "cell_type": "code",
   "execution_count": 39,
   "id": "e499d2a5-ba7d-4083-ade7-192ddb25050c",
   "metadata": {},
   "outputs": [
    {
     "name": "stdout",
     "output_type": "stream",
     "text": [
      "please enter a number\n"
     ]
    }
   ],
   "source": [
    "factorial(4.32)"
   ]
  },
  {
   "cell_type": "code",
   "execution_count": null,
   "id": "27413ae9-3235-4850-a4fe-76df842942de",
   "metadata": {},
   "outputs": [],
   "source": []
  },
  {
   "cell_type": "code",
   "execution_count": null,
   "id": "d12b2f1c-d382-46ce-a1a2-2fb479521cef",
   "metadata": {},
   "outputs": [],
   "source": []
  },
  {
   "cell_type": "markdown",
   "id": "ba2f57af-e085-4b36-8053-fbc34bfaa149",
   "metadata": {},
   "source": [
    "### reverse integer"
   ]
  },
  {
   "cell_type": "code",
   "execution_count": 8,
   "id": "6b040320-50fa-49e9-9c27-4d1c8140346b",
   "metadata": {},
   "outputs": [],
   "source": [
    "def reverse_integer(x : int) -> int:\n",
    "    # integer range check\n",
    "    assert -2**31 <= x <= 2**31 - 1, 'Invalid integer range'\n",
    "    \n",
    "    # check if negative\n",
    "    is_negative = True if x < 0 else False\n",
    "    \n",
    "    # get rid of negative of sign\n",
    "    if is_negative:\n",
    "        x = x * -1\n",
    "    # remove trailing zeros\n",
    "    zero_stripped = int(str(x).rstrip('0'))\n",
    "    \n",
    "    # Reverse the strip integer\n",
    "    x_reversed = 0\n",
    "    while (x_reversed > 0):\n",
    "        a = zero_stripped % 10\n",
    "        x_reversed = x_reversed * 10 + a\n",
    "        zero_stripped = zero_stripped // 10\n",
    "    \n",
    "    # check if the input number is negative\n",
    "    if is_negative:\n",
    "        return -x_reversed\n",
    "    return x_reversed    "
   ]
  },
  {
   "cell_type": "code",
   "execution_count": 12,
   "id": "3c243890-d2c0-45fa-bdaa-c0b6d58d451d",
   "metadata": {},
   "outputs": [
    {
     "data": {
      "text/plain": [
       "0"
      ]
     },
     "execution_count": 12,
     "metadata": {},
     "output_type": "execute_result"
    }
   ],
   "source": [
    "reverse_integer(3)"
   ]
  },
  {
   "cell_type": "code",
   "execution_count": null,
   "id": "27fb0cbc-2a1f-4c36-b1f0-adb070c62562",
   "metadata": {},
   "outputs": [],
   "source": []
  },
  {
   "cell_type": "code",
   "execution_count": 1,
   "id": "e69c961b-3bfc-4513-a6eb-1c53e29585b1",
   "metadata": {},
   "outputs": [
    {
     "name": "stdin",
     "output_type": "stream",
     "text": [
      "Give amount:  4\n"
     ]
    },
    {
     "name": "stdout",
     "output_type": "stream",
     "text": [
      "[0, 1, 1, 2]\n"
     ]
    }
   ],
   "source": [
    "a = int(input('Give amount: '))\n",
    "\n",
    "def fib(n):\n",
    "    a, b = 0, 1\n",
    "    for _ in range(n):\n",
    "        yield a\n",
    "        a, b = b, a + b\n",
    "\n",
    "print(list(fib(a)))"
   ]
  },
  {
   "cell_type": "code",
   "execution_count": 4,
   "id": "ac2cafc3-11af-42a9-b790-0340cc8567d9",
   "metadata": {},
   "outputs": [],
   "source": [
    "def is_anagram(a, b):\n",
    "    ca, cb = {}, {}\n",
    "    for i in a:\n",
    "        if i not in ca:\n",
    "            ca[i] = 1\n",
    "        else:\n",
    "            ca[i] += 1\n",
    "    for j in b:\n",
    "        if j not in cb:\n",
    "            cb[j] = 1\n",
    "        else:\n",
    "            cb[j] += 1\n",
    "    return True if ca == cb else False"
   ]
  },
  {
   "cell_type": "code",
   "execution_count": 5,
   "id": "777fd22b-c357-4c22-b7df-cf9d0f8b5f1e",
   "metadata": {},
   "outputs": [
    {
     "data": {
      "text/plain": [
       "True"
      ]
     },
     "execution_count": 5,
     "metadata": {},
     "output_type": "execute_result"
    }
   ],
   "source": [
    "is_anagram('boy', 'yob')"
   ]
  }
 ],
 "metadata": {
  "kernelspec": {
   "display_name": "Python 3 (ipykernel)",
   "language": "python",
   "name": "python3"
  },
  "language_info": {
   "codemirror_mode": {
    "name": "ipython",
    "version": 3
   },
   "file_extension": ".py",
   "mimetype": "text/x-python",
   "name": "python",
   "nbconvert_exporter": "python",
   "pygments_lexer": "ipython3",
   "version": "3.8.10"
  }
 },
 "nbformat": 4,
 "nbformat_minor": 5
}

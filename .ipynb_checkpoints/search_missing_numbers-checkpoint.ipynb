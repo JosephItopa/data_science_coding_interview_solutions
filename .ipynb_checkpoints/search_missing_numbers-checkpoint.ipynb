{
 "cells": [
  {
   "cell_type": "code",
   "execution_count": 7,
   "id": "cb43db26-8624-4447-bbda-383029c200c1",
   "metadata": {},
   "outputs": [],
   "source": [
    "def consecutive_zeros(num):\n",
    "    \"\"\"\n",
    "    Returns an integer: An integer if there is presence of consecutive zeros.\n",
    "\n",
    "    Args:\n",
    "        num (list): An unorderly list of zeros, and ones.\n",
    "\n",
    "    Returns:\n",
    "        An integer, a count of the number of consecutive zeros.\n",
    "    \"\"\"\n",
    "    len_num = len(num)\n",
    "    \n",
    "    count = 0 \n",
    "    output = 0\n",
    " \n",
    "    for i in range(0, len_num):\n",
    "     \n",
    "        # Reset count when 1 is found\n",
    "        if (num[i] == 1):\n",
    "            count = 0\n",
    "        else:\n",
    "            count+= 1\n",
    "            output = count\n",
    "    return output"
   ]
  },
  {
   "cell_type": "code",
   "execution_count": 8,
   "id": "f1688d0d-f9f7-47ef-966d-11d84d82665d",
   "metadata": {},
   "outputs": [
    {
     "data": {
      "text/plain": [
       "4"
      ]
     },
     "execution_count": 8,
     "metadata": {},
     "output_type": "execute_result"
    }
   ],
   "source": [
    "num = [1,0,0,1,0,1,0,0,0,0,1]\n",
    "consecutive_zeros(num)"
   ]
  },
  {
   "cell_type": "code",
   "execution_count": 3,
   "id": "9fc3e649-7ac1-4607-96c5-e8ffdc878017",
   "metadata": {},
   "outputs": [
    {
     "data": {
      "text/plain": [
       "2"
      ]
     },
     "execution_count": 3,
     "metadata": {},
     "output_type": "execute_result"
    }
   ],
   "source": [
    "num = [1,0,0,1,1,1,0,1,0,0,1]\n",
    "consecutive_zeros(num)"
   ]
  },
  {
   "cell_type": "code",
   "execution_count": 4,
   "id": "bfcfb9dd-0903-4050-bf74-f90d7a39ffc4",
   "metadata": {},
   "outputs": [
    {
     "data": {
      "text/plain": [
       "5"
      ]
     },
     "execution_count": 4,
     "metadata": {},
     "output_type": "execute_result"
    }
   ],
   "source": [
    "num = [1,0,0,1,1,1,0,0,0,0,0]\n",
    "consecutive_zeros(num)"
   ]
  }
 ],
 "metadata": {
  "kernelspec": {
   "display_name": "Python 3 (ipykernel)",
   "language": "python",
   "name": "python3"
  },
  "language_info": {
   "codemirror_mode": {
    "name": "ipython",
    "version": 3
   },
   "file_extension": ".py",
   "mimetype": "text/x-python",
   "name": "python",
   "nbconvert_exporter": "python",
   "pygments_lexer": "ipython3",
   "version": "3.8.10"
  }
 },
 "nbformat": 4,
 "nbformat_minor": 5
}

{
 "cells": [
  {
   "cell_type": "code",
   "execution_count": 11,
   "id": "cb43db26-8624-4447-bbda-383029c200c1",
   "metadata": {},
   "outputs": [],
   "source": [
    "def search_missing_num(array):\n",
    "    \"\"\"\n",
    "    Returns an integer: A number(s) if there are not in the array.\n",
    "\n",
    "    Args:\n",
    "        num (array): An array of numbers.\n",
    "\n",
    "    Returns:\n",
    "        A number(s).\n",
    "    \"\"\"\n",
    "    missing_items = []\n",
    "    for element in range(array[0], array[-1]+1):\n",
    "        if element not in array:\n",
    "            missing_items.append(element)\n",
    "\n",
    "    return missing_items"
   ]
  },
  {
   "cell_type": "code",
   "execution_count": 12,
   "id": "f1688d0d-f9f7-47ef-966d-11d84d82665d",
   "metadata": {},
   "outputs": [
    {
     "data": {
      "text/plain": [
       "[8]"
      ]
     },
     "execution_count": 12,
     "metadata": {},
     "output_type": "execute_result"
    }
   ],
   "source": [
    "arr = [2,3,4,4,5,6,7,9,10]\n",
    "search_missing_num(arr)"
   ]
  },
  {
   "cell_type": "code",
   "execution_count": 13,
   "id": "9fc3e649-7ac1-4607-96c5-e8ffdc878017",
   "metadata": {},
   "outputs": [
    {
     "data": {
      "text/plain": [
       "[1, 3]"
      ]
     },
     "execution_count": 13,
     "metadata": {},
     "output_type": "execute_result"
    }
   ],
   "source": [
    "arr = [0,2,4,4,5,6]\n",
    "search_missing_num(arr)"
   ]
  },
  {
   "cell_type": "code",
   "execution_count": 28,
   "id": "bfcfb9dd-0903-4050-bf74-f90d7a39ffc4",
   "metadata": {},
   "outputs": [],
   "source": [
    "## Search missing number with list comprehension\n",
    "def search_missing_num(array):\n",
    "    missing_elemnts = [item for item in range(array[0], array[-1]+1) if item not in array]\n",
    "    return missing_elemnts"
   ]
  },
  {
   "cell_type": "code",
   "execution_count": 26,
   "id": "aa4f63aa-55b1-415d-af24-a621656b5e5c",
   "metadata": {},
   "outputs": [
    {
     "data": {
      "text/plain": [
       "[6]"
      ]
     },
     "execution_count": 26,
     "metadata": {},
     "output_type": "execute_result"
    }
   ],
   "source": [
    "arr = [1,2,3,4,5,7]\n",
    "search_missing_num(arr)"
   ]
  },
  {
   "cell_type": "code",
   "execution_count": 27,
   "id": "5539b6f8-777d-4dbf-bfc9-0c11c864bcb4",
   "metadata": {},
   "outputs": [
    {
     "data": {
      "text/plain": [
       "[5, 6, 8]"
      ]
     },
     "execution_count": 27,
     "metadata": {},
     "output_type": "execute_result"
    }
   ],
   "source": [
    "arr = [1,2,3,4,7,9]\n",
    "search_missing_num(arr)"
   ]
  }
 ],
 "metadata": {
  "kernelspec": {
   "display_name": "Python 3 (ipykernel)",
   "language": "python",
   "name": "python3"
  },
  "language_info": {
   "codemirror_mode": {
    "name": "ipython",
    "version": 3
   },
   "file_extension": ".py",
   "mimetype": "text/x-python",
   "name": "python",
   "nbconvert_exporter": "python",
   "pygments_lexer": "ipython3",
   "version": "3.8.10"
  }
 },
 "nbformat": 4,
 "nbformat_minor": 5
}

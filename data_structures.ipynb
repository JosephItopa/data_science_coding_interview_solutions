{
 "cells": [
  {
   "cell_type": "markdown",
   "id": "a8e2eb06-252f-4396-ad53-621e9f77980c",
   "metadata": {},
   "source": [
    "## List"
   ]
  },
  {
   "cell_type": "markdown",
   "id": "a393957b-c339-4dbc-bcd9-959d36357cc0",
   "metadata": {},
   "source": [
    "### remove duplicates from list"
   ]
  },
  {
   "cell_type": "code",
   "execution_count": 3,
   "id": "4ba7d92a-c7ab-47c4-b8e7-0748836cd2b7",
   "metadata": {},
   "outputs": [
    {
     "data": {
      "text/plain": [
       "{1, 3, 4, 5, 6, 7, 8, 9, 10, 11, 12, 13, 14, 15}"
      ]
     },
     "execution_count": 3,
     "metadata": {},
     "output_type": "execute_result"
    }
   ],
   "source": [
    "item = [1,1,3,4,5,6,7,8,9,10,11,12,13,14,15,6,6]\n",
    "set(item)"
   ]
  },
  {
   "cell_type": "code",
   "execution_count": 6,
   "id": "e765c654-b40a-4f7c-914e-d0cdf9fd792a",
   "metadata": {},
   "outputs": [
    {
     "data": {
      "text/plain": [
       "[1, 3, 4, 5, 6, 7, 8, 9, 10, 11, 12, 13, 14, 15]"
      ]
     },
     "execution_count": 6,
     "metadata": {},
     "output_type": "execute_result"
    }
   ],
   "source": [
    "res = []\n",
    "[res.append(x) for x in item if x not in res]\n",
    "res"
   ]
  },
  {
   "cell_type": "code",
   "execution_count": 5,
   "id": "5d79b058-00f5-446f-a280-da232fa4e7ac",
   "metadata": {},
   "outputs": [
    {
     "data": {
      "text/plain": [
       "[1, 3, 4, 5, 6, 7, 8, 9, 10, 11, 12, 13, 14, 15]"
      ]
     },
     "execution_count": 5,
     "metadata": {},
     "output_type": "execute_result"
    }
   ],
   "source": [
    "[*set(item)]"
   ]
  },
  {
   "cell_type": "markdown",
   "id": "20788c9b-6410-48dc-a7e1-22ee0c8e9aac",
   "metadata": {},
   "source": [
    "### list manipulation"
   ]
  },
  {
   "cell_type": "code",
   "execution_count": 8,
   "id": "4c3af05a-8b14-407d-ab68-ecdc9c72a1ba",
   "metadata": {},
   "outputs": [
    {
     "data": {
      "text/plain": [
       "[[], []]"
      ]
     },
     "execution_count": 8,
     "metadata": {},
     "output_type": "execute_result"
    }
   ],
   "source": [
    "det = [[],[]]\n",
    "det"
   ]
  },
  {
   "cell_type": "code",
   "execution_count": 9,
   "id": "ee470449-97eb-4565-a27f-64c0d00dc02a",
   "metadata": {},
   "outputs": [
    {
     "data": {
      "text/plain": [
       "[[],\n",
       " [],\n",
       " [],\n",
       " [],\n",
       " [],\n",
       " [],\n",
       " [],\n",
       " [],\n",
       " [],\n",
       " [],\n",
       " [],\n",
       " [],\n",
       " [],\n",
       " [],\n",
       " [],\n",
       " [],\n",
       " [],\n",
       " [],\n",
       " [],\n",
       " []]"
      ]
     },
     "execution_count": 9,
     "metadata": {},
     "output_type": "execute_result"
    }
   ],
   "source": [
    "Consider the following code snippet:\n",
    "\n",
    "1. list = [ [ ] ] * 5 # \n",
    "2. list # output? Output: [[], [], [], [], []]\n",
    "3. list[0].append(10) # \n",
    "4. list # output? Output: [10, [], [], [], []]\n",
    "5. list[1].append(20)\n",
    "6. list # output? Output: [10, 20, [], [], []]\n",
    "7. list.append(30)\n",
    "8. list # output? Output: [30, 30, 30, 30, 30]\n",
    "What will be the ouput of lines 2, 4, 6, and 8? Explain your answer. "
   ]
  },
  {
   "cell_type": "code",
   "execution_count": 15,
   "id": "cbc635c4-ffc9-4491-9e80-8118f5cb7976",
   "metadata": {},
   "outputs": [
    {
     "data": {
      "text/plain": [
       "[[], [], [], [], []]"
      ]
     },
     "execution_count": 15,
     "metadata": {},
     "output_type": "execute_result"
    }
   ],
   "source": [
    "list = [ [ ] ]*5\n",
    "list"
   ]
  },
  {
   "cell_type": "code",
   "execution_count": 16,
   "id": "2fd8ec92-ccdd-4435-ad9d-8e359de0b975",
   "metadata": {},
   "outputs": [
    {
     "data": {
      "text/plain": [
       "[[10], [10], [10], [10], [10]]"
      ]
     },
     "execution_count": 16,
     "metadata": {},
     "output_type": "execute_result"
    }
   ],
   "source": [
    "list[0].append(10)\n",
    "list"
   ]
  },
  {
   "cell_type": "code",
   "execution_count": 17,
   "id": "05e51245-b02f-40ab-a099-b5af40d52eeb",
   "metadata": {},
   "outputs": [
    {
     "data": {
      "text/plain": [
       "[[10, 20], [10, 20], [10, 20], [10, 20], [10, 20]]"
      ]
     },
     "execution_count": 17,
     "metadata": {},
     "output_type": "execute_result"
    }
   ],
   "source": [
    "list[1].append(20)\n",
    "list"
   ]
  },
  {
   "cell_type": "code",
   "execution_count": 18,
   "id": "ecfb581c-41c7-4f59-bba8-4f9614368e22",
   "metadata": {},
   "outputs": [
    {
     "data": {
      "text/plain": [
       "[[10, 20], [10, 20], [10, 20], [10, 20], [10, 20], 30]"
      ]
     },
     "execution_count": 18,
     "metadata": {},
     "output_type": "execute_result"
    }
   ],
   "source": [
    "list.append(30)\n",
    "list"
   ]
  },
  {
   "cell_type": "code",
   "execution_count": null,
   "id": "b6da4088-0c3e-4aac-9359-8ae0b415274c",
   "metadata": {},
   "outputs": [],
   "source": [
    "## list manipulation"
   ]
  },
  {
   "cell_type": "code",
   "execution_count": 5,
   "id": "cc7e7d5c-6fc9-4a17-badd-7f76dc46105c",
   "metadata": {},
   "outputs": [
    {
     "data": {
      "text/plain": [
       "['Volvo', 'Subaru', 'Skyline', 'Ford']"
      ]
     },
     "execution_count": 5,
     "metadata": {},
     "output_type": "execute_result"
    }
   ],
   "source": [
    "our_list = ['Volvo', 'Subaru', 'Skyline', 'Ford']\n",
    "our_list"
   ]
  },
  {
   "cell_type": "code",
   "execution_count": 8,
   "id": "29bbb8ed-84ff-4c19-a5a2-0b76aebc7d7d",
   "metadata": {},
   "outputs": [
    {
     "name": "stdout",
     "output_type": "stream",
     "text": [
      "Subaru , Volvo , Ford\n"
     ]
    }
   ],
   "source": [
    "print(our_list[1],',', our_list[0], ',', our_list[-1])"
   ]
  },
  {
   "cell_type": "code",
   "execution_count": 9,
   "id": "65570041-395f-4120-bfdb-59b5dd4c1d55",
   "metadata": {},
   "outputs": [
    {
     "data": {
      "text/plain": [
       "['Volvo', 'Subaru', 'Toyota', 'Ford']"
      ]
     },
     "execution_count": 9,
     "metadata": {},
     "output_type": "execute_result"
    }
   ],
   "source": [
    "our_list[2] = 'Toyota'\n",
    "our_list"
   ]
  },
  {
   "cell_type": "code",
   "execution_count": 10,
   "id": "b40e4cb7-8108-41bb-88b2-528910b28fcd",
   "metadata": {},
   "outputs": [
    {
     "data": {
      "text/plain": [
       "['Volvo', 'Subaru', 'Toyota', 'Ford', 'Mecerdes']"
      ]
     },
     "execution_count": 10,
     "metadata": {},
     "output_type": "execute_result"
    }
   ],
   "source": [
    "our_list.append('Mecerdes')\n",
    "our_list"
   ]
  },
  {
   "cell_type": "code",
   "execution_count": 11,
   "id": "594f6711-7292-4fed-8f2e-22a142893875",
   "metadata": {},
   "outputs": [
    {
     "data": {
      "text/plain": [
       "['Volvo', 'Subaru', 'Toyota', 'Truck', 'Ford', 'Mecerdes']"
      ]
     },
     "execution_count": 11,
     "metadata": {},
     "output_type": "execute_result"
    }
   ],
   "source": [
    "our_list.insert(3, 'Truck')\n",
    "our_list"
   ]
  },
  {
   "cell_type": "code",
   "execution_count": 12,
   "id": "4ffb0728-d4d4-4e44-acdd-834ccb393d25",
   "metadata": {},
   "outputs": [
    {
     "data": {
      "text/plain": [
       "['Volvo', 'Subaru', 'Toyota', 'Truck', 'Ford']"
      ]
     },
     "execution_count": 12,
     "metadata": {},
     "output_type": "execute_result"
    }
   ],
   "source": [
    "del our_list[-1]\n",
    "our_list"
   ]
  },
  {
   "cell_type": "code",
   "execution_count": 13,
   "id": "5c0c2513-9a2a-45b6-9ee3-890c1f07f2f0",
   "metadata": {},
   "outputs": [
    {
     "data": {
      "text/plain": [
       "['Volvo', 'Subaru', 'Truck', 'Ford']"
      ]
     },
     "execution_count": 13,
     "metadata": {},
     "output_type": "execute_result"
    }
   ],
   "source": [
    "our_list.remove('Toyota')\n",
    "our_list"
   ]
  },
  {
   "cell_type": "code",
   "execution_count": 15,
   "id": "5e18e450-a549-4317-a336-d0769f065ce1",
   "metadata": {},
   "outputs": [
    {
     "data": {
      "text/plain": [
       "['Ford', 'Subaru', 'Truck', 'Volvo']"
      ]
     },
     "execution_count": 15,
     "metadata": {},
     "output_type": "execute_result"
    }
   ],
   "source": [
    "our_list.sort()\n",
    "our_list"
   ]
  },
  {
   "cell_type": "code",
   "execution_count": 17,
   "id": "bba9e1c6-c48b-4443-8972-c1e7527d8475",
   "metadata": {},
   "outputs": [
    {
     "data": {
      "text/plain": [
       "['Ford', 'Subaru', 'Truck', 'Volvo']"
      ]
     },
     "execution_count": 17,
     "metadata": {},
     "output_type": "execute_result"
    }
   ],
   "source": [
    "our_list.reverse()\n",
    "our_list"
   ]
  },
  {
   "cell_type": "code",
   "execution_count": 18,
   "id": "3bfbab7d-eaf1-482b-b0d0-f88433987412",
   "metadata": {},
   "outputs": [
    {
     "data": {
      "text/plain": [
       "['Ford', 'Subaru']"
      ]
     },
     "execution_count": 18,
     "metadata": {},
     "output_type": "execute_result"
    }
   ],
   "source": [
    "our_list[:2]"
   ]
  },
  {
   "cell_type": "code",
   "execution_count": 19,
   "id": "0c05b557-eee1-4e6e-a8fc-a2ad4536e17f",
   "metadata": {},
   "outputs": [
    {
     "data": {
      "text/plain": [
       "['Truck', 'Volvo']"
      ]
     },
     "execution_count": 19,
     "metadata": {},
     "output_type": "execute_result"
    }
   ],
   "source": [
    "our_list[2:]"
   ]
  },
  {
   "cell_type": "code",
   "execution_count": 20,
   "id": "d347c319-3473-4206-9d1d-da59450e5603",
   "metadata": {},
   "outputs": [
    {
     "name": "stdout",
     "output_type": "stream",
     "text": [
      "Volvo\n",
      "Subaru\n",
      "Skyline\n",
      "Ford\n"
     ]
    }
   ],
   "source": [
    "major = ['Volvo', 'Subaru', 'Skyline', 'Ford']\n",
    "for v in major:\n",
    "    print(v)"
   ]
  },
  {
   "cell_type": "code",
   "execution_count": null,
   "id": "30109177-7991-4537-9a02-0f7102089d72",
   "metadata": {},
   "outputs": [],
   "source": []
  },
  {
   "cell_type": "markdown",
   "id": "5677439f-4291-4cac-83b1-c89327970596",
   "metadata": {},
   "source": [
    "## dictionary"
   ]
  },
  {
   "cell_type": "code",
   "execution_count": 2,
   "id": "3329f8be-5306-4aae-a3d4-6a6fe1ae5f08",
   "metadata": {},
   "outputs": [
    {
     "data": {
      "text/plain": [
       "[{}, {}, {}, {}, {}]"
      ]
     },
     "execution_count": 2,
     "metadata": {},
     "output_type": "execute_result"
    }
   ],
   "source": [
    "do = [{}] * 5\n",
    "do"
   ]
  },
  {
   "cell_type": "code",
   "execution_count": 21,
   "id": "596e36b9-f715-4387-9271-c38a51d1f765",
   "metadata": {},
   "outputs": [],
   "source": [
    "vehicle = {\n",
    "            'brand': 'Toyota',\n",
    "            'model': 2018,\n",
    "            'country': 'Japan'\n",
    "            }"
   ]
  },
  {
   "cell_type": "code",
   "execution_count": 22,
   "id": "1c4c25db-532e-401e-b194-ed5f71471551",
   "metadata": {},
   "outputs": [
    {
     "data": {
      "text/plain": [
       "{'brand': 'Toyota', 'model': 2018}"
      ]
     },
     "execution_count": 22,
     "metadata": {},
     "output_type": "execute_result"
    }
   ],
   "source": [
    "del vehicle['country']\n",
    "vehicle"
   ]
  },
  {
   "cell_type": "code",
   "execution_count": 27,
   "id": "9e3d4ba9-588b-4d5f-8285-5de7ad55626e",
   "metadata": {},
   "outputs": [
    {
     "data": {
      "text/plain": [
       "{'Toyota': 'V18', 'Volvo': 'V16', 'man': 'V20', 'model': 2016}"
      ]
     },
     "execution_count": 27,
     "metadata": {},
     "output_type": "execute_result"
    }
   ],
   "source": [
    "vehicle['model'] = 2016\n",
    "vehicle"
   ]
  },
  {
   "cell_type": "code",
   "execution_count": 24,
   "id": "eb588898-1323-4e4f-a850-16e2c3b8fb83",
   "metadata": {},
   "outputs": [
    {
     "data": {
      "text/plain": [
       "{'Toyota': 'V18', 'Volvo': 'V16', 'man': 'V20'}"
      ]
     },
     "execution_count": 24,
     "metadata": {},
     "output_type": "execute_result"
    }
   ],
   "source": [
    "vehicle = {\n",
    "            'Toyota': 'V18',\n",
    "            'Volvo': 'V16',\n",
    "            'man': 'V20'\n",
    "            }\n",
    "vehicle"
   ]
  },
  {
   "cell_type": "code",
   "execution_count": 25,
   "id": "4d336cb3-0621-46fe-a206-e5fb159e56d5",
   "metadata": {},
   "outputs": [
    {
     "name": "stdout",
     "output_type": "stream",
     "text": [
      "Toyota V18\n",
      "Volvo V16\n",
      "man V20\n"
     ]
    }
   ],
   "source": [
    "for model, name in vehicle.items():\n",
    "    print(model, name)"
   ]
  },
  {
   "cell_type": "code",
   "execution_count": null,
   "id": "8bfc7014-bdab-434e-9610-84361d34b2b6",
   "metadata": {},
   "outputs": [],
   "source": []
  }
 ],
 "metadata": {
  "kernelspec": {
   "display_name": "Python 3 (ipykernel)",
   "language": "python",
   "name": "python3"
  },
  "language_info": {
   "codemirror_mode": {
    "name": "ipython",
    "version": 3
   },
   "file_extension": ".py",
   "mimetype": "text/x-python",
   "name": "python",
   "nbconvert_exporter": "python",
   "pygments_lexer": "ipython3",
   "version": "3.8.10"
  }
 },
 "nbformat": 4,
 "nbformat_minor": 5
}

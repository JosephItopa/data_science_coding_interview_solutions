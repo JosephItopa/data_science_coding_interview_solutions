{
 "cells": [
  {
   "cell_type": "markdown",
   "id": "a393957b-c339-4dbc-bcd9-959d36357cc0",
   "metadata": {},
   "source": [
    "### remove duplicates from list"
   ]
  },
  {
   "cell_type": "code",
   "execution_count": 3,
   "id": "4ba7d92a-c7ab-47c4-b8e7-0748836cd2b7",
   "metadata": {},
   "outputs": [
    {
     "data": {
      "text/plain": [
       "{1, 3, 4, 5, 6, 7, 8, 9, 10, 11, 12, 13, 14, 15}"
      ]
     },
     "execution_count": 3,
     "metadata": {},
     "output_type": "execute_result"
    }
   ],
   "source": [
    "item = [1,1,3,4,5,6,7,8,9,10,11,12,13,14,15,6,6]\n",
    "set(item)"
   ]
  },
  {
   "cell_type": "code",
   "execution_count": 6,
   "id": "e765c654-b40a-4f7c-914e-d0cdf9fd792a",
   "metadata": {},
   "outputs": [
    {
     "data": {
      "text/plain": [
       "[1, 3, 4, 5, 6, 7, 8, 9, 10, 11, 12, 13, 14, 15]"
      ]
     },
     "execution_count": 6,
     "metadata": {},
     "output_type": "execute_result"
    }
   ],
   "source": [
    "res = []\n",
    "[res.append(x) for x in item if x not in res]\n",
    "res"
   ]
  },
  {
   "cell_type": "code",
   "execution_count": 5,
   "id": "5d79b058-00f5-446f-a280-da232fa4e7ac",
   "metadata": {},
   "outputs": [
    {
     "data": {
      "text/plain": [
       "[1, 3, 4, 5, 6, 7, 8, 9, 10, 11, 12, 13, 14, 15]"
      ]
     },
     "execution_count": 5,
     "metadata": {},
     "output_type": "execute_result"
    }
   ],
   "source": [
    "[*set(item)]"
   ]
  },
  {
   "cell_type": "markdown",
   "id": "20788c9b-6410-48dc-a7e1-22ee0c8e9aac",
   "metadata": {},
   "source": [
    "### list manipulation"
   ]
  },
  {
   "cell_type": "code",
   "execution_count": 8,
   "id": "4c3af05a-8b14-407d-ab68-ecdc9c72a1ba",
   "metadata": {},
   "outputs": [
    {
     "data": {
      "text/plain": [
       "[[], []]"
      ]
     },
     "execution_count": 8,
     "metadata": {},
     "output_type": "execute_result"
    }
   ],
   "source": [
    "det = [[],[]]\n",
    "det"
   ]
  },
  {
   "cell_type": "code",
   "execution_count": 9,
   "id": "ee470449-97eb-4565-a27f-64c0d00dc02a",
   "metadata": {},
   "outputs": [
    {
     "data": {
      "text/plain": [
       "[[],\n",
       " [],\n",
       " [],\n",
       " [],\n",
       " [],\n",
       " [],\n",
       " [],\n",
       " [],\n",
       " [],\n",
       " [],\n",
       " [],\n",
       " [],\n",
       " [],\n",
       " [],\n",
       " [],\n",
       " [],\n",
       " [],\n",
       " [],\n",
       " [],\n",
       " []]"
      ]
     },
     "execution_count": 9,
     "metadata": {},
     "output_type": "execute_result"
    }
   ],
   "source": [
    "Consider the following code snippet:\n",
    "\n",
    "1. list = [ [ ] ] * 5 # \n",
    "2. list # output? Output: [[], [], [], [], []]\n",
    "3. list[0].append(10) # \n",
    "4. list # output? Output: [10, [], [], [], []]\n",
    "5. list[1].append(20)\n",
    "6. list # output? Output: [10, 20, [], [], []]\n",
    "7. list.append(30)\n",
    "8. list # output? Output: [30, 30, 30, 30, 30]\n",
    "What will be the ouput of lines 2, 4, 6, and 8? Explain your answer. "
   ]
  },
  {
   "cell_type": "code",
   "execution_count": 15,
   "id": "cbc635c4-ffc9-4491-9e80-8118f5cb7976",
   "metadata": {},
   "outputs": [
    {
     "data": {
      "text/plain": [
       "[[], [], [], [], []]"
      ]
     },
     "execution_count": 15,
     "metadata": {},
     "output_type": "execute_result"
    }
   ],
   "source": [
    "list = [ [ ] ]*5\n",
    "list"
   ]
  },
  {
   "cell_type": "code",
   "execution_count": 16,
   "id": "2fd8ec92-ccdd-4435-ad9d-8e359de0b975",
   "metadata": {},
   "outputs": [
    {
     "data": {
      "text/plain": [
       "[[10], [10], [10], [10], [10]]"
      ]
     },
     "execution_count": 16,
     "metadata": {},
     "output_type": "execute_result"
    }
   ],
   "source": [
    "list[0].append(10)\n",
    "list"
   ]
  },
  {
   "cell_type": "code",
   "execution_count": 17,
   "id": "05e51245-b02f-40ab-a099-b5af40d52eeb",
   "metadata": {},
   "outputs": [
    {
     "data": {
      "text/plain": [
       "[[10, 20], [10, 20], [10, 20], [10, 20], [10, 20]]"
      ]
     },
     "execution_count": 17,
     "metadata": {},
     "output_type": "execute_result"
    }
   ],
   "source": [
    "list[1].append(20)\n",
    "list"
   ]
  },
  {
   "cell_type": "code",
   "execution_count": 18,
   "id": "ecfb581c-41c7-4f59-bba8-4f9614368e22",
   "metadata": {},
   "outputs": [
    {
     "data": {
      "text/plain": [
       "[[10, 20], [10, 20], [10, 20], [10, 20], [10, 20], 30]"
      ]
     },
     "execution_count": 18,
     "metadata": {},
     "output_type": "execute_result"
    }
   ],
   "source": [
    "list.append(30)\n",
    "list"
   ]
  },
  {
   "cell_type": "code",
   "execution_count": null,
   "id": "8b2b11d9-4948-4ed8-98f3-058b3891ee97",
   "metadata": {},
   "outputs": [],
   "source": []
  }
 ],
 "metadata": {
  "kernelspec": {
   "display_name": "Python 3 (ipykernel)",
   "language": "python",
   "name": "python3"
  },
  "language_info": {
   "codemirror_mode": {
    "name": "ipython",
    "version": 3
   },
   "file_extension": ".py",
   "mimetype": "text/x-python",
   "name": "python",
   "nbconvert_exporter": "python",
   "pygments_lexer": "ipython3",
   "version": "3.8.10"
  }
 },
 "nbformat": 4,
 "nbformat_minor": 5
}

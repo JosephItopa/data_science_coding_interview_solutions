{
 "cells": [
  {
   "cell_type": "markdown",
   "id": "579378f5-7af1-42c0-aae1-28ab33faefb7",
   "metadata": {},
   "source": [
    "## Anagrams\n",
    "### Two strings are anagrams if you can make one from the other by rearranging the letters.\n",
    "\n",
    "### Write a function named is_anagram that takes two strings as its parameters. Your function should return True if the strings are anagrams, and False otherwise.\n",
    "\n",
    "### For example, the call is_anagram(\"typhoon\", \"opython\") should return True while the call is_anagram(\"Alice\", \"Bob\") should return False. "
   ]
  },
  {
   "cell_type": "code",
   "execution_count": 16,
   "id": "64a25369-f406-4681-b776-46a76f135c40",
   "metadata": {},
   "outputs": [],
   "source": [
    "def is_anagram(word_one, word_two) -> bool:\n",
    "    \"\"\"\n",
    "    Returns a boolean: True or False; True if both words are an anagram and False if its not.\n",
    "\n",
    "    Args:\n",
    "        word_one (string): first word.\n",
    "        word_two (string): second word.\n",
    "\n",
    "    Returns:\n",
    "        True if anagram, else it returns False.\n",
    "    \"\"\"\n",
    "    \n",
    "    if len(word_one) != len(word_two):\n",
    "        return False\n",
    "        \n",
    "    word_one = word_one.lower()\n",
    "    word_two = word_two.lower()\n",
    "    count_word_one, count_word_two = {}, {}\n",
    "    \n",
    "    for letter in word_one:\n",
    "        if letter not in count_word_one:\n",
    "            count_word_one[letter] = 1\n",
    "        else:\n",
    "            count_word_one[letter] += 1\n",
    "                         \n",
    "    for letter in word_two:\n",
    "        if letter not in count_word_two:\n",
    "            count_word_two[letter] = 1\n",
    "        else:\n",
    "            count_word_two[letter] += 1\n",
    "    \n",
    "    return True if count_word_one == count_word_two else False"
   ]
  },
  {
   "cell_type": "code",
   "execution_count": 17,
   "id": "1f02972d-9302-4bbd-8e88-de8e9a94bc0e",
   "metadata": {},
   "outputs": [
    {
     "data": {
      "text/plain": [
       "False"
      ]
     },
     "execution_count": 17,
     "metadata": {},
     "output_type": "execute_result"
    }
   ],
   "source": [
    "is_anagram(\"Alice\", \"Bob\")"
   ]
  },
  {
   "cell_type": "code",
   "execution_count": 19,
   "id": "924f5753-1a8f-4d47-9b3b-739a1dd57cd6",
   "metadata": {},
   "outputs": [
    {
     "data": {
      "text/plain": [
       "True"
      ]
     },
     "execution_count": 19,
     "metadata": {},
     "output_type": "execute_result"
    }
   ],
   "source": [
    "is_anagram(\"typhoon\", \"opython\")"
   ]
  }
 ],
 "metadata": {
  "kernelspec": {
   "display_name": "Python 3 (ipykernel)",
   "language": "python",
   "name": "python3"
  },
  "language_info": {
   "codemirror_mode": {
    "name": "ipython",
    "version": 3
   },
   "file_extension": ".py",
   "mimetype": "text/x-python",
   "name": "python",
   "nbconvert_exporter": "python",
   "pygments_lexer": "ipython3",
   "version": "3.8.10"
  }
 },
 "nbformat": 4,
 "nbformat_minor": 5
}

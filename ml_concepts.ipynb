{
 "cells": [
  {
   "cell_type": "markdown",
   "id": "9bc7a1e6-59aa-4c85-b994-46db5cf19e26",
   "metadata": {},
   "source": [
    "## Concepts\n",
    "\n",
    "### Machine learning\n",
    "\n",
    "### Supervised learning\n",
    "\n",
    "### Unsupervised learning\n",
    "\n",
    "### Reinforcement learning\n",
    "\n",
    "## Machine Learning Algorithms\n",
    "\n",
    "### Linear regression\n",
    "\n",
    "### Multi-linear regression\n",
    "\n",
    "### Decision Trees\n",
    "\n",
    "### Random Forest\n",
    "\n",
    "### Gradientboost\n",
    "\n",
    "## Deep Learning\n",
    "\n",
    "### Neural Network\n",
    "\n",
    "### Convolutional Neural Network\n",
    "\n",
    "## Statistical Methods\n",
    "\n",
    "### Inferential Statistics\n",
    "\n",
    "### Descriptive Statistics\n",
    "\n",
    "### Baye's theorem\n",
    "\n"
   ]
  }
 ],
 "metadata": {
  "kernelspec": {
   "display_name": "Python 3 (ipykernel)",
   "language": "python",
   "name": "python3"
  },
  "language_info": {
   "codemirror_mode": {
    "name": "ipython",
    "version": 3
   },
   "file_extension": ".py",
   "mimetype": "text/x-python",
   "name": "python",
   "nbconvert_exporter": "python",
   "pygments_lexer": "ipython3",
   "version": "3.8.10"
  }
 },
 "nbformat": 4,
 "nbformat_minor": 5
}

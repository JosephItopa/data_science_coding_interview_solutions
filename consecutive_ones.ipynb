{
 "cells": [
  {
   "cell_type": "code",
   "execution_count": 24,
   "id": "80a9de56-7867-4b80-9425-e15e4e3d466d",
   "metadata": {},
   "outputs": [],
   "source": [
    "def consecutive_ones(num):\n",
    "    \"\"\"\n",
    "    Returns an integer: An integer if there is presence of consecutive ones.\n",
    "\n",
    "    Args:\n",
    "        num (list): An unorderly list of zeros, and ones.\n",
    "\n",
    "    Returns:\n",
    "        An integer, a count of the number of consecutive ones.\n",
    "    \"\"\"\n",
    "    len_num = len(num)\n",
    "    \n",
    "    count = 0 \n",
    "    output = 0\n",
    " \n",
    "    for i in range(0, len_num):\n",
    "     \n",
    "        # Reset count when 0 is found\n",
    "        if (num[i] == 0):\n",
    "            count = 0\n",
    "        else:\n",
    "            count += 1\n",
    "            output = max(output, count)\n",
    "    return output"
   ]
  },
  {
   "cell_type": "code",
   "execution_count": 25,
   "id": "1e0474ec-885a-4bdc-82d9-aa7d41e3dad4",
   "metadata": {},
   "outputs": [
    {
     "data": {
      "text/plain": [
       "3"
      ]
     },
     "execution_count": 25,
     "metadata": {},
     "output_type": "execute_result"
    }
   ],
   "source": [
    "num = [1,0,0,1,0,1,1,1,0,0,1]\n",
    "consecutive_ones(num)"
   ]
  },
  {
   "cell_type": "code",
   "execution_count": 26,
   "id": "561b3581-105e-4968-b241-0504a54a3585",
   "metadata": {},
   "outputs": [
    {
     "data": {
      "text/plain": [
       "1"
      ]
     },
     "execution_count": 26,
     "metadata": {},
     "output_type": "execute_result"
    }
   ],
   "source": [
    "num = [1,0,0,1,0,1,0,0,1]\n",
    "consecutive_ones(num)"
   ]
  },
  {
   "cell_type": "code",
   "execution_count": 27,
   "id": "15d1bf09-dcc9-4d89-8717-8d8f0d8d9fc5",
   "metadata": {},
   "outputs": [
    {
     "data": {
      "text/plain": [
       "4"
      ]
     },
     "execution_count": 27,
     "metadata": {},
     "output_type": "execute_result"
    }
   ],
   "source": [
    "num = [1,0,0,1,0,1,1,1,1,0,0,1]\n",
    "consecutive_ones(num)"
   ]
  }
 ],
 "metadata": {
  "kernelspec": {
   "display_name": "Python 3 (ipykernel)",
   "language": "python",
   "name": "python3"
  },
  "language_info": {
   "codemirror_mode": {
    "name": "ipython",
    "version": 3
   },
   "file_extension": ".py",
   "mimetype": "text/x-python",
   "name": "python",
   "nbconvert_exporter": "python",
   "pygments_lexer": "ipython3",
   "version": "3.8.10"
  }
 },
 "nbformat": 4,
 "nbformat_minor": 5
}
